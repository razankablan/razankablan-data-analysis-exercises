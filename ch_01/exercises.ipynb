{
  "cells": [
    {
      "cell_type": "markdown",
      "metadata": {
        "id": "view-in-github",
        "colab_type": "text"
      },
      "source": [
        "<a href=\"https://colab.research.google.com/github/razankablan/razankablan-data-analysis-exercises/blob/main/ch_01/exercises.ipynb\" target=\"_parent\"><img src=\"https://colab.research.google.com/assets/colab-badge.svg\" alt=\"Open In Colab\"/></a>"
      ]
    },
    {
      "cell_type": "markdown",
      "metadata": {
        "id": "9Jocf7A8GMz9"
      },
      "source": [
        "# Coding exercises\n",
        "Exercises 1-3 are thought exercises that don't require coding.\n",
        "\n",
        "## Exercise 4: Generate the data by running this cell\n",
        "This will give you a list of numbers to work with in the remaining exercises."
      ]
    },
    {
      "cell_type": "code",
      "execution_count": null,
      "metadata": {
        "id": "POsSyU5LGMz-"
      },
      "outputs": [],
      "source": [
        "import random\n",
        "random.seed(0)\n",
        "salaries = [round(random.random()*1000000, -3) for _ in range(100)]"
      ]
    },
    {
      "cell_type": "code",
      "source": [
        "print(salaries)"
      ],
      "metadata": {
        "colab": {
          "base_uri": "https://localhost:8080/"
        },
        "id": "7MTG780aHVj4",
        "outputId": "10210efd-e454-4269-e779-36075cf1d04b"
      },
      "execution_count": null,
      "outputs": [
        {
          "output_type": "stream",
          "name": "stdout",
          "text": [
            "[844000.0, 758000.0, 421000.0, 259000.0, 511000.0, 405000.0, 784000.0, 303000.0, 477000.0, 583000.0, 908000.0, 505000.0, 282000.0, 756000.0, 618000.0, 251000.0, 910000.0, 983000.0, 810000.0, 902000.0, 310000.0, 730000.0, 899000.0, 684000.0, 472000.0, 101000.0, 434000.0, 611000.0, 913000.0, 967000.0, 477000.0, 865000.0, 260000.0, 805000.0, 549000.0, 14000.0, 720000.0, 399000.0, 825000.0, 668000.0, 1000.0, 494000.0, 868000.0, 244000.0, 325000.0, 870000.0, 191000.0, 568000.0, 239000.0, 968000.0, 803000.0, 448000.0, 80000.0, 320000.0, 508000.0, 933000.0, 109000.0, 551000.0, 707000.0, 547000.0, 814000.0, 540000.0, 964000.0, 603000.0, 588000.0, 445000.0, 596000.0, 385000.0, 576000.0, 290000.0, 189000.0, 187000.0, 613000.0, 657000.0, 477000.0, 90000.0, 758000.0, 877000.0, 923000.0, 842000.0, 898000.0, 923000.0, 541000.0, 391000.0, 705000.0, 276000.0, 812000.0, 849000.0, 895000.0, 590000.0, 950000.0, 580000.0, 451000.0, 660000.0, 996000.0, 917000.0, 793000.0, 82000.0, 613000.0, 486000.0]\n"
          ]
        }
      ]
    },
    {
      "cell_type": "markdown",
      "metadata": {
        "id": "2TNRYPZ_GMz_"
      },
      "source": [
        "## Exercise 5: Calculating statistics and verifying\n",
        "### mean"
      ]
    },
    {
      "cell_type": "code",
      "source": [
        "import numpy as np\n",
        "mean_salary = np.mean(salaries)\n",
        "print(\"Mean salary:\", mean_salary)"
      ],
      "metadata": {
        "colab": {
          "base_uri": "https://localhost:8080/"
        },
        "id": "jbbjU2bZw5c9",
        "outputId": "013b8a43-dbef-4497-ee52-799dea87c362"
      },
      "execution_count": null,
      "outputs": [
        {
          "output_type": "stream",
          "name": "stdout",
          "text": [
            "Mean salary: 585690.0\n"
          ]
        }
      ]
    },
    {
      "cell_type": "markdown",
      "metadata": {
        "id": "d6m7jwWVGMz_"
      },
      "source": [
        "### median"
      ]
    },
    {
      "cell_type": "code",
      "execution_count": null,
      "metadata": {
        "colab": {
          "base_uri": "https://localhost:8080/"
        },
        "id": "7HXmQ_SkGMz_",
        "outputId": "def841c1-8952-43c0-c702-40d69e14481b"
      },
      "outputs": [
        {
          "output_type": "stream",
          "name": "stdout",
          "text": [
            "Median salary is:, 589000.0\n"
          ]
        }
      ],
      "source": [
        "median_salary = np.median(salaries)\n",
        "print(f\"Median salary is:, {median_salary}\")"
      ]
    },
    {
      "cell_type": "markdown",
      "metadata": {
        "id": "BFCEKEIkGMz_"
      },
      "source": [
        "### mode"
      ]
    },
    {
      "cell_type": "code",
      "execution_count": null,
      "metadata": {
        "colab": {
          "base_uri": "https://localhost:8080/"
        },
        "id": "w7Rpz6EdGMz_",
        "outputId": "b15bcc50-97ad-40d7-a398-14fbad6ce173"
      },
      "outputs": [
        {
          "output_type": "stream",
          "name": "stdout",
          "text": [
            "Median salary: 589000.0\n"
          ]
        }
      ],
      "source": [
        "median_salary = np.median(salaries)\n",
        "print(\"Median salary:\", median_salary)"
      ]
    },
    {
      "cell_type": "markdown",
      "metadata": {
        "id": "hKvPnY9ZGM0A"
      },
      "source": [
        "### sample variance\n",
        "Remember to use Bessel's correction."
      ]
    },
    {
      "cell_type": "code",
      "execution_count": null,
      "metadata": {
        "colab": {
          "base_uri": "https://localhost:8080/"
        },
        "id": "f43uTNAHGM0A",
        "outputId": "df97adae-f2c5-4a05-b263-8fe94697919e"
      },
      "outputs": [
        {
          "output_type": "stream",
          "name": "stdout",
          "text": [
            "Sample variance: 70664054444.44444\n"
          ]
        }
      ],
      "source": [
        "sample_variance = np.var(salaries, ddof=1)\n",
        "print(\"Sample variance:\", sample_variance)"
      ]
    },
    {
      "cell_type": "markdown",
      "metadata": {
        "id": "XvLw0BunGM0A"
      },
      "source": [
        "### sample standard deviation\n",
        "Remember to use Bessel's correction."
      ]
    },
    {
      "cell_type": "code",
      "execution_count": null,
      "metadata": {
        "colab": {
          "base_uri": "https://localhost:8080/"
        },
        "id": "O95--W6lGM0A",
        "outputId": "dac396b2-38a7-484c-f054-4cb8fdfcc038"
      },
      "outputs": [
        {
          "output_type": "stream",
          "name": "stdout",
          "text": [
            "Sample standard deviation: 265827.11382484\n"
          ]
        }
      ],
      "source": [
        "import statistics\n",
        "sample_std = np.std(salaries, ddof=1)  # ddof=1 → sample std\n",
        "print(\"Sample standard deviation:\", sample_std)"
      ]
    },
    {
      "cell_type": "markdown",
      "metadata": {
        "id": "t17lrrj5GM0A"
      },
      "source": [
        "## Exercise 6: Calculating more statistics\n",
        "### range"
      ]
    },
    {
      "cell_type": "code",
      "execution_count": null,
      "metadata": {
        "colab": {
          "base_uri": "https://localhost:8080/"
        },
        "id": "2aMdNNRfGM0A",
        "outputId": "352ea6e5-a1cd-461c-c597-42ab93e19657"
      },
      "outputs": [
        {
          "output_type": "stream",
          "name": "stdout",
          "text": [
            "Range: 995000.0\n"
          ]
        }
      ],
      "source": [
        "salary_range = max(salaries) - min(salaries)\n",
        "print(\"Range:\", salary_range)"
      ]
    },
    {
      "cell_type": "markdown",
      "metadata": {
        "id": "y576xuZYGM0A"
      },
      "source": [
        "### coefficient of variation"
      ]
    },
    {
      "cell_type": "code",
      "execution_count": null,
      "metadata": {
        "colab": {
          "base_uri": "https://localhost:8080/"
        },
        "id": "APcrwGDuGM0A",
        "outputId": "dd2f9ca2-439c-48ae-d28c-213d5465d377"
      },
      "outputs": [
        {
          "output_type": "stream",
          "name": "stdout",
          "text": [
            "Coefficient of Variation: 0.45386998894439035\n"
          ]
        }
      ],
      "source": [
        "import statistics\n",
        "mean_salary = statistics.mean(salaries)\n",
        "stdev_salary = statistics.stdev(salaries)\n",
        "cv = stdev_salary / mean_salary\n",
        "print(\"Coefficient of Variation:\", cv)"
      ]
    },
    {
      "cell_type": "markdown",
      "metadata": {
        "id": "5RgghRbJGM0B"
      },
      "source": [
        "### interquartile range"
      ]
    },
    {
      "cell_type": "code",
      "execution_count": null,
      "metadata": {
        "colab": {
          "base_uri": "https://localhost:8080/"
        },
        "id": "1Kz5Zg6BGM0B",
        "outputId": "e4e538e5-e772-44f1-9920-64d9cf1893f7"
      },
      "outputs": [
        {
          "output_type": "stream",
          "name": "stdout",
          "text": [
            "Interquartile Range (IQR): 413250.0\n"
          ]
        }
      ],
      "source": [
        "import numpy as np\n",
        "q1 = np.percentile(salaries, 25)\n",
        "q3 = np.percentile(salaries, 75)\n",
        "iqr = q3 - q1\n",
        "print(\"Interquartile Range (IQR):\", iqr)"
      ]
    },
    {
      "cell_type": "markdown",
      "metadata": {
        "id": "u4wSu9zWGM0B"
      },
      "source": [
        "### quartile coefficent of dispersion"
      ]
    },
    {
      "cell_type": "code",
      "execution_count": null,
      "metadata": {
        "colab": {
          "base_uri": "https://localhost:8080/"
        },
        "id": "7N7XuuIoGM0B",
        "outputId": "3e04180e-9db0-4188-e194-5dbb6ec3b149"
      },
      "outputs": [
        {
          "output_type": "stream",
          "name": "stdout",
          "text": [
            "Quartile Coefficient of Dispersion: 0.338660110633067\n"
          ]
        }
      ],
      "source": [
        "qcd = (q3 - q1) / (q3 + q1)\n",
        "print(\"Quartile Coefficient of Dispersion:\", qcd)"
      ]
    },
    {
      "cell_type": "markdown",
      "metadata": {
        "id": "L-3U7bWWGM0B"
      },
      "source": [
        "## Exercise 7: Scaling data\n",
        "### min-max scaling"
      ]
    },
    {
      "cell_type": "code",
      "execution_count": null,
      "metadata": {
        "colab": {
          "base_uri": "https://localhost:8080/"
        },
        "id": "sNAdeMaUGM0B",
        "outputId": "e3f34394-50c2-4233-9858-f411c78e56a7"
      },
      "outputs": [
        {
          "output_type": "stream",
          "name": "stdout",
          "text": [
            "First 10 salaries after Min-Max scaling: [np.float64(0.8472361809045226), np.float64(0.7608040201005025), np.float64(0.4221105527638191), np.float64(0.2592964824120603), np.float64(0.5125628140703518), np.float64(0.40603015075376886), np.float64(0.7869346733668342), np.float64(0.3035175879396985), np.float64(0.47839195979899496), np.float64(0.5849246231155779)]\n"
          ]
        }
      ],
      "source": [
        "import numpy as np\n",
        "min_val = np.min(salaries)\n",
        "max_val = np.max(salaries)\n",
        "min_max_scaled = [(x - min_val) / (max_val - min_val) for x in salaries]\n",
        "print(\"First 10 salaries after Min-Max scaling:\", min_max_scaled[:10])"
      ]
    },
    {
      "cell_type": "markdown",
      "metadata": {
        "id": "0vsYN0B3GM0C"
      },
      "source": [
        "### standardizing"
      ]
    },
    {
      "cell_type": "code",
      "execution_count": null,
      "metadata": {
        "colab": {
          "base_uri": "https://localhost:8080/"
        },
        "id": "F-FdrO7qGM0C",
        "outputId": "fd1893d4-3cbb-41f6-9d39-903d23ed50c5"
      },
      "outputs": [
        {
          "output_type": "stream",
          "name": "stdout",
          "text": [
            "First 10 salaries after Standardization: [np.float64(0.9717217942267801), np.float64(0.6482032533127501), np.float64(-0.6195380058503674), np.float64(-1.228956652688424), np.float64(-0.28097209094033604), np.float64(-0.6797275018343729), np.float64(0.7460111842867592), np.float64(-1.0634355387324086), np.float64(-0.40887476990634786), np.float64(-0.010119359012310937)]\n"
          ]
        }
      ],
      "source": [
        "mean_val = np.mean(salaries)\n",
        "std_val = np.std(salaries, ddof=1)  # sample std\n",
        "standardized = [(x - mean_val) / std_val for x in salaries]\n",
        "print(\"First 10 salaries after Standardization:\", standardized[:10])"
      ]
    },
    {
      "cell_type": "markdown",
      "metadata": {
        "id": "I2zzxst6GM0C"
      },
      "source": [
        "## Exercise 8: Calculating covariance and correlation\n",
        "### covariance"
      ]
    },
    {
      "cell_type": "code",
      "execution_count": null,
      "metadata": {
        "colab": {
          "base_uri": "https://localhost:8080/"
        },
        "id": "nqSFUz4oGM0C",
        "outputId": "883923c7-0d3a-43b2-f8ac-38b623a6a53c"
      },
      "outputs": [
        {
          "output_type": "stream",
          "name": "stdout",
          "text": [
            "Covariance between normalized and standardized: 0.267162928467176\n"
          ]
        }
      ],
      "source": [
        "import numpy as np\n",
        "covariance = np.cov(min_max_scaled, standardized)[0, 1]\n",
        "print(\"Covariance between normalized and standardized:\", covariance)"
      ]
    },
    {
      "cell_type": "markdown",
      "metadata": {
        "id": "SF8tZofcGM0C"
      },
      "source": [
        "### Pearson correlation coefficient ($\\rho$)"
      ]
    },
    {
      "cell_type": "code",
      "execution_count": null,
      "metadata": {
        "colab": {
          "base_uri": "https://localhost:8080/"
        },
        "id": "1XY4_BdrGM0C",
        "outputId": "0990deb2-5cc8-4b5a-e37a-b5bb2d9fd53a"
      },
      "outputs": [
        {
          "output_type": "stream",
          "name": "stdout",
          "text": [
            "Pearson correlation coefficient: 1.0\n"
          ]
        }
      ],
      "source": [
        "pearson_corr = np.corrcoef(min_max_scaled, standardized)[0, 1]\n",
        "print(\"Pearson correlation coefficient:\", pearson_corr)"
      ]
    }
  ],
  "metadata": {
    "kernelspec": {
      "display_name": "Python 3",
      "language": "python",
      "name": "python3"
    },
    "language_info": {
      "codemirror_mode": {
        "name": "ipython",
        "version": 3
      },
      "file_extension": ".py",
      "mimetype": "text/x-python",
      "name": "python",
      "nbconvert_exporter": "python",
      "pygments_lexer": "ipython3",
      "version": "3.7.2"
    },
    "colab": {
      "provenance": [],
      "include_colab_link": true
    }
  },
  "nbformat": 4,
  "nbformat_minor": 0
}