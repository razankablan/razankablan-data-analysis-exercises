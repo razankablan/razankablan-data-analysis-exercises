{
  "nbformat": 4,
  "nbformat_minor": 0,
  "metadata": {
    "colab": {
      "provenance": [],
      "authorship_tag": "ABX9TyN1RomQRuSm2TSoSQ0fCrmB",
      "include_colab_link": true
    },
    "kernelspec": {
      "name": "python3",
      "display_name": "Python 3"
    },
    "language_info": {
      "name": "python"
    }
  },
  "cells": [
    {
      "cell_type": "markdown",
      "metadata": {
        "id": "view-in-github",
        "colab_type": "text"
      },
      "source": [
        "<a href=\"https://colab.research.google.com/github/razankablan/razankablan-data-analysis-exercises/blob/main/Chapter_3_uploads.ipynb\" target=\"_parent\"><img src=\"https://colab.research.google.com/assets/colab-badge.svg\" alt=\"Open In Colab\"/></a>"
      ]
    },
    {
      "cell_type": "code",
      "source": [
        "import pandas as pd\n",
        "import glob\n",
        "import os\n",
        "\n",
        "# Step 1: combine all CSV files in the current directory\n",
        "files = glob.glob(\"*.csv\")\n",
        "\n",
        "# Step 2: Read and process each file\n",
        "faang_list = []\n",
        "for file in files:\n",
        "    # Read the CSV\n",
        "    df = pd.read_csv(file)\n",
        "\n",
        "    # Extract ticker symbol from file name\n",
        "    ticker = os.path.splitext(file)[0].upper()\n",
        "\n",
        "    # Add ticker column\n",
        "    df[\"ticker\"] = ticker\n",
        "\n",
        "    # Append to list\n",
        "    faang_list.append(df)\n",
        "\n",
        "# Step 3: Combine all dataframes into one\n",
        "faang = pd.concat(faang_list, ignore_index=True)\n",
        "\n",
        "# Step 4: Save combined dataframe to CSV\n",
        "faang.to_csv(\"faang.csv\", index=False)\n",
        "\n",
        "# Show first few rows\n",
        "print(faang.head())\n"
      ],
      "metadata": {
        "colab": {
          "base_uri": "https://localhost:8080/"
        },
        "id": "ifOtGlbFCfUX",
        "outputId": "d6a20842-a4e5-436e-c693-e05126888ccd"
      },
      "execution_count": 8,
      "outputs": [
        {
          "output_type": "stream",
          "name": "stdout",
          "text": [
            "         date      open      high       low     close    volume ticker\n",
            "0  2018-01-02  166.9271  169.0264  166.0442  168.9872  25555934   AAPL\n",
            "1  2018-01-03  169.2521  171.2337  168.6929  168.9578  29517899   AAPL\n",
            "2  2018-01-04  169.2619  170.1742  168.8106  169.7426  22434597   AAPL\n",
            "3  2018-01-05  170.1448  172.0381  169.7622  171.6751  23660018   AAPL\n",
            "4  2018-01-08  171.0375  172.2736  170.6255  171.0375  20567766   AAPL\n"
          ]
        }
      ]
    },
    {
      "cell_type": "code",
      "source": [
        "import os\n",
        "\n",
        "print(os.listdir())\n"
      ],
      "metadata": {
        "colab": {
          "base_uri": "https://localhost:8080/"
        },
        "id": "oxIyoRXttp9D",
        "outputId": "e99c3b42-3a35-4a39-ffe2-16deea3f71dc"
      },
      "execution_count": 10,
      "outputs": [
        {
          "output_type": "stream",
          "name": "stdout",
          "text": [
            "['.config', 'aapl.csv', 'amzn.csv', 'faang.csv', 'fb.csv', 'nflx.csv', 'goog.csv', 'sample_data']\n"
          ]
        }
      ]
    },
    {
      "cell_type": "code",
      "source": [
        "import pandas as pd\n",
        "import glob\n",
        "import os\n",
        "\n",
        "# List of FAANG tickers\n",
        "faang_tickers = [\"FB\", \"AAPL\", \"AMZN\", \"NFLX\", \"GOOG\"]\n",
        "\n",
        "faang_list = []\n",
        "for file in glob.glob(\"*.csv\"):\n",
        "    filename = os.path.basename(file)\n",
        "    name_no_ext = os.path.splitext(filename)[0]\n",
        "    ticker = name_no_ext.upper()\n",
        "\n",
        "\n",
        "    if ticker in faang_tickers:\n",
        "        df = pd.read_csv(file)\n",
        "        df[\"ticker\"] = ticker\n",
        "        faang_list.append(df)\n",
        "\n",
        "# Combine into one dataframe\n",
        "faang = pd.concat(faang_list, ignore_index=True)\n",
        "\n",
        "# Save combined file\n",
        "faang.to_csv(\"faang.csv\", index=False)\n",
        "\n",
        "print(faang.head())\n",
        "print(\"Data combined for tickers:\", faang[\"ticker\"].unique())\n"
      ],
      "metadata": {
        "colab": {
          "base_uri": "https://localhost:8080/"
        },
        "id": "o0uQs91euVlu",
        "outputId": "fcb5780d-a3ba-4c1d-b1e8-c00126c6de45"
      },
      "execution_count": 11,
      "outputs": [
        {
          "output_type": "stream",
          "name": "stdout",
          "text": [
            "         date      open      high       low     close    volume ticker\n",
            "0  2018-01-02  166.9271  169.0264  166.0442  168.9872  25555934   AAPL\n",
            "1  2018-01-03  169.2521  171.2337  168.6929  168.9578  29517899   AAPL\n",
            "2  2018-01-04  169.2619  170.1742  168.8106  169.7426  22434597   AAPL\n",
            "3  2018-01-05  170.1448  172.0381  169.7622  171.6751  23660018   AAPL\n",
            "4  2018-01-08  171.0375  172.2736  170.6255  171.0375  20567766   AAPL\n",
            "Data combined for tickers: ['AAPL' 'AMZN' 'FB' 'NFLX' 'GOOG']\n"
          ]
        }
      ]
    },
    {
      "cell_type": "code",
      "source": [
        "import pandas as pd\n",
        "import glob\n",
        "import os\n",
        "\n",
        "# FAANG tickers\n",
        "faang_tickers = [\"FB\", \"AAPL\", \"AMZN\", \"NFLX\", \"GOOG\"]\n",
        "\n",
        "faang_list = []\n",
        "for file in glob.glob(\"*.csv\"):\n",
        "    filename = os.path.basename(file)\n",
        "    name_no_ext = os.path.splitext(filename)[0]\n",
        "    ticker = name_no_ext.upper()\n",
        "\n",
        "    if ticker in faang_tickers:\n",
        "        df = pd.read_csv(file)\n",
        "        df[\"ticker\"] = ticker\n",
        "        faang_list.append(df)\n",
        "\n",
        "# Combine into one dataframe\n",
        "faang = pd.concat(faang_list, ignore_index=True)\n",
        "\n",
        "# Save the combined result\n",
        "faang.to_csv(\"faang.csv\", index=False)\n",
        "\n",
        "print(\"Combined FAANG data saved to faang.csv\")\n",
        "print(faang.head())\n"
      ],
      "metadata": {
        "colab": {
          "base_uri": "https://localhost:8080/"
        },
        "id": "YioX0bymugwi",
        "outputId": "1c49bd1a-d394-4338-e2bf-3a1c52b56be1"
      },
      "execution_count": 12,
      "outputs": [
        {
          "output_type": "stream",
          "name": "stdout",
          "text": [
            "Combined FAANG data saved to faang.csv\n",
            "         date      open      high       low     close    volume ticker\n",
            "0  2018-01-02  166.9271  169.0264  166.0442  168.9872  25555934   AAPL\n",
            "1  2018-01-03  169.2521  171.2337  168.6929  168.9578  29517899   AAPL\n",
            "2  2018-01-04  169.2619  170.1742  168.8106  169.7426  22434597   AAPL\n",
            "3  2018-01-05  170.1448  172.0381  169.7622  171.6751  23660018   AAPL\n",
            "4  2018-01-08  171.0375  172.2736  170.6255  171.0375  20567766   AAPL\n"
          ]
        }
      ]
    },
    {
      "cell_type": "code",
      "source": [
        "# Convert date to datetime\n",
        "faang[\"date\"] = pd.to_datetime(faang[\"date\"], errors=\"coerce\")\n",
        "\n",
        "# Convert volume to integers\n",
        "faang[\"volume\"] = faang[\"volume\"].astype(int)\n",
        "\n",
        "# Sort by date, then ticker\n",
        "faang = faang.sort_values(by=[\"date\", \"ticker\"]).reset_index(drop=True)\n",
        "\n",
        "print(faang.head())\n",
        "print(faang.dtypes)\n"
      ],
      "metadata": {
        "colab": {
          "base_uri": "https://localhost:8080/"
        },
        "id": "JnvLOPpcuuXG",
        "outputId": "762913ad-d44c-4450-f6fb-042cfd04045f"
      },
      "execution_count": 13,
      "outputs": [
        {
          "output_type": "stream",
          "name": "stdout",
          "text": [
            "        date       open       high        low      close    volume ticker\n",
            "0 2018-01-02   166.9271   169.0264   166.0442   168.9872  25555934   AAPL\n",
            "1 2018-01-02  1172.0000  1190.0000  1170.5100  1189.0100   2694494   AMZN\n",
            "2 2018-01-02   177.6800   181.5800   177.5500   181.4200  18151903     FB\n",
            "3 2018-01-02  1048.3400  1066.9400  1045.2300  1065.0000   1237564   GOOG\n",
            "4 2018-01-02   196.1000   201.6500   195.4200   201.0700  10966889   NFLX\n",
            "date      datetime64[ns]\n",
            "open             float64\n",
            "high             float64\n",
            "low              float64\n",
            "close            float64\n",
            "volume             int64\n",
            "ticker            object\n",
            "dtype: object\n"
          ]
        }
      ]
    },
    {
      "cell_type": "code",
      "source": [
        "# Get top 7 rows by volume\n",
        "top7_volume = faang.nlargest(7, \"volume\")\n",
        "\n",
        "print(top7_volume)"
      ],
      "metadata": {
        "colab": {
          "base_uri": "https://localhost:8080/"
        },
        "id": "sH2FeP26vWTa",
        "outputId": "13d6e787-87aa-438f-eb44-65ec05e19ac5"
      },
      "execution_count": 14,
      "outputs": [
        {
          "output_type": "stream",
          "name": "stdout",
          "text": [
            "           date      open      high       low     close     volume ticker\n",
            "712  2018-07-26  174.8900  180.1300  173.7500  176.2600  169803668     FB\n",
            "267  2018-03-20  167.4700  170.2000  161.9500  168.1500  129851768     FB\n",
            "287  2018-03-26  160.8200  161.1000  149.0200  160.0600  126116634     FB\n",
            "272  2018-03-21  164.8000  173.4000  163.3000  169.3900  106598834     FB\n",
            "910  2018-09-21  219.0727  219.6482  215.6097  215.9768   96246748   AAPL\n",
            "1225 2018-12-21  156.1901  157.4845  148.9909  150.0862   95744384   AAPL\n",
            "1060 2018-11-02  207.9295  211.9978  203.8414  205.8755   91328654   AAPL\n"
          ]
        }
      ]
    },
    {
      "cell_type": "code",
      "source": [
        "# Melt into long format\n",
        "faang_long = faang.melt(\n",
        "    id_vars=[\"date\", \"ticker\"],               # identifiers\n",
        "    value_vars=[\"open\", \"high\", \"low\", \"close\", \"volume\"],  # variables to melt\n",
        "    var_name=\"variable\",\n",
        "    value_name=\"value\"\n",
        ")\n",
        "\n",
        "print(faang_long.head(10))\n"
      ],
      "metadata": {
        "colab": {
          "base_uri": "https://localhost:8080/"
        },
        "id": "j6nDO4-UwNP_",
        "outputId": "151a3869-3ef9-450f-d562-bfdd8e580ef1"
      },
      "execution_count": 15,
      "outputs": [
        {
          "output_type": "stream",
          "name": "stdout",
          "text": [
            "        date ticker variable      value\n",
            "0 2018-01-02   AAPL     open   166.9271\n",
            "1 2018-01-02   AMZN     open  1172.0000\n",
            "2 2018-01-02     FB     open   177.6800\n",
            "3 2018-01-02   GOOG     open  1048.3400\n",
            "4 2018-01-02   NFLX     open   196.1000\n",
            "5 2018-01-03   AAPL     open   169.2521\n",
            "6 2018-01-03   AMZN     open  1188.3000\n",
            "7 2018-01-03     FB     open   181.8800\n",
            "8 2018-01-03   GOOG     open  1064.3100\n",
            "9 2018-01-03   NFLX     open   202.0500\n"
          ]
        }
      ]
    }
  ]
}